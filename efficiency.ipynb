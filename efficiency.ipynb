{
 "cells": [
  {
   "cell_type": "code",
   "execution_count": 2,
   "metadata": {},
   "outputs": [],
   "source": [
    "import pandas as pd"
   ]
  },
  {
   "cell_type": "code",
   "execution_count": 3,
   "metadata": {},
   "outputs": [],
   "source": [
    "\n",
    "import numpy as np\n",
    "\n"
   ]
  },
  {
   "cell_type": "code",
   "execution_count": 4,
   "metadata": {},
   "outputs": [
    {
     "data": {
      "text/plain": [
       "0.932048887015052"
      ]
     },
     "execution_count": 4,
     "metadata": {},
     "output_type": "execute_result"
    }
   ],
   "source": [
    "avg = 0\n",
    "for i in range(20):\n",
    "    data = pd.read_csv(f'/media/storage/agam/drone_launch/outputs/global_{i+1}/time.csv')\n",
    "    big_data = []\n",
    "    for i in range(len(data['efficiency'])):\n",
    "        if data['time'][i]>=10:\n",
    "            big_data.append(data['efficiency'][i])\n",
    "    efficiencies = np.mean(np.array(big_data))\n",
    "    avg = avg+efficiencies\n",
    "\n",
    "avg = avg/20\n",
    "\n",
    "avg\n",
    "\n"
   ]
  },
  {
   "cell_type": "markdown",
   "metadata": {},
   "source": [
    "priority based time analysis"
   ]
  },
  {
   "cell_type": "code",
   "execution_count": 18,
   "metadata": {},
   "outputs": [],
   "source": [
    "one = []\n",
    "two = []\n",
    "three = []\n",
    "four = []\n",
    "five = []"
   ]
  },
  {
   "cell_type": "code",
   "execution_count": 19,
   "metadata": {},
   "outputs": [],
   "source": [
    "i=2\n",
    "data = pd.read_csv(f'/media/storage/agam/drone_launch/outputs/global_{i+1}/time.csv')\n",
    "for i in range(len(data)):\n",
    "    \n",
    "        \n",
    "    if data['priority'][i]<=2:\n",
    "        one.append(data.iloc[i])\n",
    "    elif 2<data['priority'][i]<=3:\n",
    "        two.append(data.iloc[i])\n",
    "    elif 3<data['priority'][i]<=4:\n",
    "        three.append(data.iloc[i])\n",
    "    elif 4<data['priority'][i]<=5:\n",
    "        four.append(data.iloc[i])\n",
    "    else :\n",
    "        five.append(data.iloc[i])"
   ]
  },
  {
   "cell_type": "code",
   "execution_count": 23,
   "metadata": {},
   "outputs": [],
   "source": [
    "one= pd.DataFrame(one)\n",
    "two = pd.DataFrame(two)\n",
    "three = pd.DataFrame(three)\n",
    "four = pd.DataFrame(four)\n",
    "five = pd.DataFrame(five)"
   ]
  },
  {
   "cell_type": "code",
   "execution_count": 26,
   "metadata": {},
   "outputs": [
    {
     "data": {
      "text/plain": [
       "(23.596, 30.450076923076924, 24.947799999999997, 29.0426, 26.94628571428571)"
      ]
     },
     "execution_count": 26,
     "metadata": {},
     "output_type": "execute_result"
    }
   ],
   "source": [
    "one['time'].mean(), two['time'].mean(), three['time'].mean(), four['time'].mean(), five['time'].mean()"
   ]
  },
  {
   "cell_type": "code",
   "execution_count": null,
   "metadata": {},
   "outputs": [],
   "source": []
  }
 ],
 "metadata": {
  "kernelspec": {
   "display_name": "Python 3.9.13 ('agam')",
   "language": "python",
   "name": "python3"
  },
  "language_info": {
   "codemirror_mode": {
    "name": "ipython",
    "version": 3
   },
   "file_extension": ".py",
   "mimetype": "text/x-python",
   "name": "python",
   "nbconvert_exporter": "python",
   "pygments_lexer": "ipython3",
   "version": "3.9.13"
  },
  "orig_nbformat": 4,
  "vscode": {
   "interpreter": {
    "hash": "195394b05e144a5d6c9d8f92b1371d219f576ac8cb742877676b40e864af246b"
   }
  }
 },
 "nbformat": 4,
 "nbformat_minor": 2
}
